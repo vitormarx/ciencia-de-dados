{
 "cells": [
  {
   "cell_type": "markdown",
   "metadata": {},
   "source": [
    "# **Medidas de Posição, Dispersão e Forma**\n",
    "\n",
    "A estatística descritiva sintetiza as características principais em um conjunto de dados por meio de tabela de frequências, gráficos e medidas-resumo, permitindo a melhor compreensão do comportamento dos dados.\n"
   ]
  },
  {
   "cell_type": "code",
   "execution_count": 14,
   "metadata": {},
   "outputs": [],
   "source": [
    "import pandas as pd\n",
    "import numpy as np"
   ]
  },
  {
   "cell_type": "markdown",
   "metadata": {},
   "source": [
    "Para este estudo trabalharemos com o dataset de preços de um produto anotados de vários sites."
   ]
  },
  {
   "cell_type": "code",
   "execution_count": 3,
   "metadata": {},
   "outputs": [
    {
     "data": {
      "text/html": [
       "<div>\n",
       "<style scoped>\n",
       "    .dataframe tbody tr th:only-of-type {\n",
       "        vertical-align: middle;\n",
       "    }\n",
       "\n",
       "    .dataframe tbody tr th {\n",
       "        vertical-align: top;\n",
       "    }\n",
       "\n",
       "    .dataframe thead th {\n",
       "        text-align: right;\n",
       "    }\n",
       "</style>\n",
       "<table border=\"1\" class=\"dataframe\">\n",
       "  <thead>\n",
       "    <tr style=\"text-align: right;\">\n",
       "      <th></th>\n",
       "      <th>Preço ($)</th>\n",
       "    </tr>\n",
       "  </thead>\n",
       "  <tbody>\n",
       "    <tr>\n",
       "      <th>0</th>\n",
       "      <td>189</td>\n",
       "    </tr>\n",
       "    <tr>\n",
       "      <th>1</th>\n",
       "      <td>195</td>\n",
       "    </tr>\n",
       "    <tr>\n",
       "      <th>2</th>\n",
       "      <td>199</td>\n",
       "    </tr>\n",
       "    <tr>\n",
       "      <th>3</th>\n",
       "      <td>189</td>\n",
       "    </tr>\n",
       "    <tr>\n",
       "      <th>4</th>\n",
       "      <td>197</td>\n",
       "    </tr>\n",
       "  </tbody>\n",
       "</table>\n",
       "</div>"
      ],
      "text/plain": [
       "   Preço ($)\n",
       "0        189\n",
       "1        195\n",
       "2        199\n",
       "3        189\n",
       "4        197"
      ]
     },
     "execution_count": 3,
     "metadata": {},
     "output_type": "execute_result"
    }
   ],
   "source": [
    "df = pd.read_csv('https://raw.githubusercontent.com/vitormarx/ciencia-de-dados/main/datasets/preco.csv', delimiter=';')\n",
    "df.head()"
   ]
  },
  {
   "cell_type": "markdown",
   "metadata": {},
   "source": [
    "## **Medidas de Posição**\n",
    "\n",
    "Essas medidas fornecem valores que caracterizam o comportamento de uma série de dados. São subdivididas em medidas de tendência central e medidas separatistas.\n",
    "\n",
    "### **Média**\n",
    "\n",
    "É a soma dos valores (Xi) contidos na variável dividido pela quantidade total de observações\n",
    "\n",
    "<img src='http://3.bp.blogspot.com/-52OD2MrW6s8/Tl14LPKjwLI/AAAAAAAAABs/WGyot-sp2NA/s1600/media-aritmetica.png'></img>"
   ]
  },
  {
   "cell_type": "code",
   "execution_count": 5,
   "metadata": {},
   "outputs": [
    {
     "name": "stdout",
     "output_type": "stream",
     "text": [
      "média dos preços: R$ 190.77\n"
     ]
    }
   ],
   "source": [
    "media = np.mean(df)\n",
    "print(f'média dos preços: R$ {media:.2f}')"
   ]
  },
  {
   "cell_type": "markdown",
   "metadata": {},
   "source": [
    "### **Mediana**\n",
    "\n",
    "É o elemento central da distribuição da variável, considerando que  variável esteja com seus n valores organizados de forma crescente.\n",
    "\n",
    "<img src='https://tse2.mm.bing.net/th?id=OIP.FPk5lT9w2G72B-zZhefX1gHaEO&pid=Api&P=0&h=180'></img> Se n for par\n",
    "\n",
    "<img src='https://informeglobal.com/wp-content/uploads/2019/11/mediana-para-datos-no-agrupados-impares.png'></img> Se n for ímpar"
   ]
  },
  {
   "cell_type": "code",
   "execution_count": 13,
   "metadata": {},
   "outputs": [
    {
     "name": "stdout",
     "output_type": "stream",
     "text": [
      "mediana dos preços: R$ 189.0\n"
     ]
    }
   ],
   "source": [
    "mediana = np.median(df)\n",
    "print(f'mediana dos preços: R$ {mediana}')"
   ]
  },
  {
   "cell_type": "markdown",
   "metadata": {},
   "source": [
    "### **Moda**\n",
    "\n",
    "É o valor que aparece com maior frequência nas observações de uma variável. É possível que não exista a moda de uma variável"
   ]
  },
  {
   "cell_type": "code",
   "execution_count": 18,
   "metadata": {},
   "outputs": [
    {
     "name": "stdout",
     "output_type": "stream",
     "text": [
      "Moda de preços: R$ 199.00\n"
     ]
    }
   ],
   "source": [
    "unique, counts = np.unique(df, return_counts=True)\n",
    "max_count = np.max(counts)\n",
    "moda_indices = np.where(counts == max_count)[0]\n",
    "moda = unique[moda_indices][0]\n",
    "print(f'Moda de preços: R$ {moda:.2f}')"
   ]
  },
  {
   "cell_type": "markdown",
   "metadata": {},
   "source": [
    "### **Percentis**\n",
    "\n",
    "São os elementos da distribuição da variável que dividem as observações em cem partes iguais, considerando que as variáveis estejam com seus valores organizados de forma crescente.\n",
    "\n",
    "<img src='https://tse3.mm.bing.net/th?id=OIP.I5vRBWtTskit62zBLh6GjgAAAA&pid=Api&P=0&h=180'></img>"
   ]
  },
  {
   "cell_type": "code",
   "execution_count": 20,
   "metadata": {},
   "outputs": [
    {
     "name": "stdout",
     "output_type": "stream",
     "text": [
      "44 percentil: R$ 189.00\n"
     ]
    }
   ],
   "source": [
    "# calculando o 44 percentil\n",
    "percentil = np.percentile(df, 44)\n",
    "print(f'44 percentil: R$ {percentil:.2f}')"
   ]
  },
  {
   "cell_type": "markdown",
   "metadata": {},
   "source": [
    "### **Quartis**\n",
    "\n",
    "São os elementos da distribuição das variáveis que dividem as observações em 4 partes iguais, considerando que a variável esteja organizada de forma crescente.\n",
    "\n",
    "1. 1 Quartil: 25% das observações são menores do que o valor x\n",
    "2. 2 Quartil: mediana\n",
    "3. 3 Quartil: 25% das observações são maiores que o valor x\n",
    "\n",
    "<img src='https://3.bp.blogspot.com/-8EdILVYkWQU/V8QL093hbjI/AAAAAAAAGOw/hL18HcHuJ7IkziSyvCjk_rvhR0LWUhbwgCLcB/s1600/F%25C3%25B3rmulas%2BUbicaci%25C3%25B3n%2Bde%2BCuartiles.png'></img>"
   ]
  },
  {
   "cell_type": "code",
   "execution_count": 23,
   "metadata": {},
   "outputs": [
    {
     "name": "stdout",
     "output_type": "stream",
     "text": [
      "1 Quartil de preço: R$ 179.00\n",
      "2 Quartil de preço: R$ 189.00\n",
      "3 Quartil de preço: R$ 199.00\n"
     ]
    }
   ],
   "source": [
    "q1 = np.percentile(df,25)\n",
    "q2 = np.percentile(df,50)\n",
    "q3 = np.percentile(df,75)\n",
    "\n",
    "print(f'1 Quartil de preço: R$ {q1:.2f}')\n",
    "print(f'2 Quartil de preço: R$ {q2:.2f}')\n",
    "print(f'3 Quartil de preço: R$ {q3:.2f}')"
   ]
  },
  {
   "cell_type": "markdown",
   "metadata": {},
   "source": [
    "# **Medidas de dispersão**\n",
    "\n",
    "Medidas de dispersão ou variabilidade são usadas para caracterizar a dispersão ou variabilidade dos dados.\n",
    "\n",
    "## **Amplitude**\n",
    "\n",
    "Apresenta a diferença entre o maior e o menor valor da variável\n",
    "\n",
    "<img src='http://2.bp.blogspot.com/-4SWRVSQMDCg/UDoQRZTz39I/AAAAAAAAAGc/G8ZfmBziJZ0/s1600/Amplitude+total.jpg'></img>"
   ]
  },
  {
   "cell_type": "code",
   "execution_count": 24,
   "metadata": {},
   "outputs": [
    {
     "name": "stdout",
     "output_type": "stream",
     "text": [
      "amplitude de preços: R$ 90.00\n"
     ]
    }
   ],
   "source": [
    "amplitude = np.max(df) - np.min(df)\n",
    "print(f'amplitude de preços: R$ {amplitude:.2f}')"
   ]
  },
  {
   "cell_type": "markdown",
   "metadata": {},
   "source": [
    "## **Variância**\n",
    "\n",
    "Mostra a dispersão de uma variável em torno de sua média. Não é muito explicativa, já que depende de um acúmulo de desvios de média.\n",
    "\n",
    "<img src='https://lh4.googleusercontent.com/BzBtk53WNMUwM0i40awfQ7yN7OUl2e7BKBUcvo0aaePjs6jrbQbM4EswZQxrvQgMndCnOjSFU2SDY-3SS8OkhRbJRQ9wMT_sEaTY8keouvaVEr_De1OH2bcAJlLRls7W4uE0SP1k'></img>"
   ]
  },
  {
   "cell_type": "code",
   "execution_count": 39,
   "metadata": {},
   "outputs": [
    {
     "name": "stdout",
     "output_type": "stream",
     "text": [
      "variância de preços: R$ 244.02\n"
     ]
    }
   ],
   "source": [
    "variancia = np.var(df.values, ddof=1)\n",
    "print(f'variância de preços: R$ {variancia:.2f}')"
   ]
  },
  {
   "cell_type": "markdown",
   "metadata": {},
   "source": [
    "## **Desvio-padrão**\n",
    "\n",
    "É a medida derivada da variância, tornanndo mais simples a interpretação da dispersão em torno da média\n",
    "\n",
    "<img src='https://lh6.googleusercontent.com/3ZKVi4Qa3xQ9lC5gfzn90Nl8wCJFR5qaXWdVBShLTHHvPsrZ0tRewceikw6xoHRIf6PTj4t0kgfBM5BJumak_mFxA17KDPfMY8TD518FathSuO33AHfAZoGj2lh6XQ'></img>"
   ]
  },
  {
   "cell_type": "code",
   "execution_count": 38,
   "metadata": {},
   "outputs": [
    {
     "name": "stdout",
     "output_type": "stream",
     "text": [
      "desvio-padrão de preços: R$ 15.54\n"
     ]
    }
   ],
   "source": [
    "desvio = np.std(df.values)\n",
    "print(f'desvio-padrão de preços: R$ {desvio:.2f}')"
   ]
  },
  {
   "cell_type": "markdown",
   "metadata": {},
   "source": [
    "# Medidas de Forma\n",
    "\n",
    "São medidas que caracterizam a forma da distribuição dos elementos da população amostrados em torno da média\n",
    "\n",
    "## **Medidas de Assimetria (Skewness)**\n",
    "\n",
    "Referem-se a forma da curva de uma distribuição de frequências. Para uma curva ou distribuição de frequências simétrica, a média, moda e mediana são iguais. Já no caso de assimetria, a média distancia-se da moda e a mediana situa-se numa posição intermediária.\n",
    "\n",
    "<img src='https://3.bp.blogspot.com/-urfLd1Jy_vc/WIVTrI3AXoI/AAAAAAAAK5c/ppTKiRw9OUwS3TQjy7pGueYClIUSKPn9wCLcB/s1600/Imagem2.jpg'></img>\n",
    "\n",
    "Além disso, o cálculo do coeficiente de Fisher (g1) pode determinar a assimetria da distribuição:\n",
    "\n",
    "<img src='https://tse3.explicit.bing.net/th?id=OIP.0OGDTeks-yC_jZMMn5y9GQAAAA&pid=Api&P=0&h=180'></img>\n",
    "\n",
    "* g1 = 0: distribuição simétrica\n",
    "* g1 > 0: distribuição assimétrica à direita\n",
    "* g1 < 0: distribuição assimétrica à esquerda "
   ]
  },
  {
   "cell_type": "code",
   "execution_count": 52,
   "metadata": {},
   "outputs": [
    {
     "name": "stdout",
     "output_type": "stream",
     "text": [
      "coeficiente de Fisher: 0.091\n"
     ]
    }
   ],
   "source": [
    "n = len(df)\n",
    "m3 = 0\n",
    "for i in df.values:\n",
    "    m3 = m3 +  np.sum((i-media)**3)/n\n",
    "\n",
    "g1 = ((n**2) * m3)/((n-1)*(n-2)*(desvio**3))\n",
    "\n",
    "print(f'coeficiente de Fisher: {g1:.3f}')"
   ]
  },
  {
   "cell_type": "markdown",
   "metadata": {},
   "source": [
    "## **Curtosis**\n",
    "\n",
    "Mede o achatamento da curva de distribuição. É possível observar se as curvas têm menor dispersão ou maior, em torno da média.\n",
    "\n",
    "<img src='https://maestrovirtuale.com/wp-content/uploads/2020/05/curtosis.jpg'></img>\n",
    "\n",
    "O coeficiente de curtose é calculado por:\n",
    "\n",
    "<img src='http://1.bp.blogspot.com/-FFvJPE-unL0/UEP-_Jga5MI/AAAAAAAAANE/i7WRVFRyoks/s1600/Curtose+-+coeficiente.jpg'></img>"
   ]
  },
  {
   "cell_type": "code",
   "execution_count": 53,
   "metadata": {},
   "outputs": [
    {
     "name": "stdout",
     "output_type": "stream",
     "text": [
      "coeficiente de curtose: 0.250\n"
     ]
    }
   ],
   "source": [
    "curtose = (q3-q1)/(2*(np.percentile(df,90) - np.percentile(df,10)))\n",
    "print(f'coeficiente de curtose: {curtose:.3f}')"
   ]
  },
  {
   "cell_type": "code",
   "execution_count": 54,
   "metadata": {},
   "outputs": [
    {
     "name": "stdout",
     "output_type": "stream",
     "text": [
      "media: 190.77\n",
      "mediana: 189.00\n",
      "moda: 199.00\n",
      "1 Quartil: 179.00\n",
      "2 Quartil: 189.00\n",
      "2 Quartil: 199.00\n",
      "amplitude: 90.00\n",
      "variância: 244.02\n",
      "desvio-padrão: 15.54\n",
      "coeficiente de Fisher: 0.342\n",
      "coeficiente de curtose: 0.250\n"
     ]
    }
   ],
   "source": [
    "# tabela de resumo\n",
    "print(f'media: {media:.2f}')\n",
    "print(f'mediana: {mediana:.2f}')\n",
    "print(f'moda: {moda:.2f}')\n",
    "print(f'1 Quartil: {q1:.2f}')\n",
    "print(f'2 Quartil: {q2:.2f}')\n",
    "print(f'2 Quartil: {q3:.2f}')\n",
    "print(f'amplitude: {amplitude:.2f}')\n",
    "print(f'variância: {variancia:.2f}')\n",
    "print(f'desvio-padrão: {desvio:.2f}')\n",
    "print(f'coeficiente de Fisher: {coeficiente_fisher:.3f}')\n",
    "print(f'coeficiente de curtose: {curtose:.3f}')"
   ]
  }
 ],
 "metadata": {
  "kernelspec": {
   "display_name": "Python 3",
   "language": "python",
   "name": "python3"
  },
  "language_info": {
   "codemirror_mode": {
    "name": "ipython",
    "version": 3
   },
   "file_extension": ".py",
   "mimetype": "text/x-python",
   "name": "python",
   "nbconvert_exporter": "python",
   "pygments_lexer": "ipython3",
   "version": "3.11.4"
  }
 },
 "nbformat": 4,
 "nbformat_minor": 2
}
