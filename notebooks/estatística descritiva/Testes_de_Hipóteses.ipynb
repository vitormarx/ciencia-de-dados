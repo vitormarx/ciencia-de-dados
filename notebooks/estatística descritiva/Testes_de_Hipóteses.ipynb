{
 "cells": [
  {
   "cell_type": "markdown",
   "metadata": {},
   "source": [
    "# **Testes de Hipóteses**\n",
    "\n",
    "Uma hipótese estatística é uma suposição sobre determinado parâmetro da população, como\n",
    "média, desvio-padrão, coeficiente de correlação, etc. Um teste de hipótese é um procedimento para decisão\n",
    "sobre a veracidade ou falsidade de determinada hipótese. Para que uma hipótese estatística seja validada ou rejeitada\n",
    "com certeza, seria necessário examinarmos toda a população, o que na prática é inviável. Como alternativa,\n",
    "extraímos uma amostra aleatória da população de interesse. Como a decisão é tomada com base na amostra, podem\n",
    "ocorrer erros (rejeitar uma hipótese quando ela for verdadeira ou não rejeitar uma hipótese quando ela for\n",
    "falsa), como será visto mais adiante.\n",
    "\n",
    "## **Teste bilateral**\n",
    "\n",
    "considerar X uma variável associada a uma população e *θ* determinado parâmetro dessa população. Devemos definir a hipótese a ser testada sobre o parâmetro *θ* dessa população, que é chamada de hipótese nula:\n",
    "\n",
    "**Ho: *θ* = *θo*** \n",
    "\n",
    "Definiremos também a hipótese alternativa (H1), caso H0 seja rejeitada, que pode ser caracterizada da seguinte forma:\n",
    "\n",
    "**Ho: *θ* ≠ *θo*** \n",
    "\n",
    "e o teste é chamado de teste bilateral (ou bicaudal).\n",
    "O nível de significância (α) de um teste representa a probabilidade de rejeitar a hipótese nula quando ela for\n",
    "verdadeira (é um dos dois tipos de erros que podem ocorrer, conforme veremos a seguir). A região crítica (RC)\n",
    "de um teste bilateral é representada por duas caudas de tamanhos iguais, respectivamente ria extremidade esquerda\n",
    "e direita da curva de distribuição, e cada uma delás corresponde à metade do nível de significância α, conforme\n",
    "mostra a Figura.\n",
    "\n",
    "<img src=\"https://www.professorguru.com.br/images/regiao-critica-teste-bilateral.png\">\n",
    "\n",
    "## **Teste unilateral à esquerda**\n",
    "\n",
    "Outra forma de definir a hipótese alternativa (H1) seria:\n",
    "\n",
    "**H1: *θ* < *θo***\n",
    "\n",
    "e o teste é chamado unilateral (ou unicaudal) à esquerda. Nesse caso, a região crítica está na cauda esquerda da distribuição e corresponde ao nível de significância α. Quando o objetivo for verificar se um parâmetro é significativamente inferior a determinado valor, utilizamos um teste unilateral à esquerda, como mostra a Figura abaixo.\n",
    "\n",
    "<img src=\"https://www.professorguru.com.br/images/regiao-critica-teste-unilateral-a-esquerda.png\">\n",
    "\n",
    "## **Teste unilateral à direita**\n",
    "\n",
    "Outra forma de definir a hipótese alternativa (H1) seria:\n",
    "\n",
    "**H1: *θ* > *θo***\n",
    "\n",
    "e o teste é chamado unilateral (ou unicaudal) à direita. Nesse caso, a região crítica está na cauda direita da distribuição e corresponde ao nível de significância α. Quando o objetivo for verificar se um parâmetro é significativamente superior a determinado valor, utilizamos um teste unilateral à direita, como mostra a Figura abaixo.\n",
    "\n",
    "<img src=\"https://www.professorguru.com.br/images/regiao-critica-teste-unilateral-a-esquerda.png\">"
   ]
  },
  {
   "cell_type": "code",
   "execution_count": null,
   "metadata": {},
   "outputs": [],
   "source": []
  }
 ],
 "metadata": {
  "kernelspec": {
   "display_name": "Python 3",
   "language": "python",
   "name": "python3"
  },
  "language_info": {
   "name": "python",
   "version": "3.11.4"
  }
 },
 "nbformat": 4,
 "nbformat_minor": 2
}
