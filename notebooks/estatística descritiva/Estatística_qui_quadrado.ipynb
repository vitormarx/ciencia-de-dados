{
  "cells": [
    {
      "cell_type": "markdown",
      "metadata": {
        "id": "AQLTCwarjWjV"
      },
      "source": [
        "# **Estatística qui-quadrado (𝝌²)**\n",
        "\n",
        "O objetivo é avaliar se existe relação entre as variáveis qualitativas ou categóricas estudadas, além do grau de associação entre elas. Isto pode ser feito por meio de tabelas de distribuições de frequências, medidas-resumo como a estatística qui-quadrado (𝝌²) que mede a discrepância entre uma tabela de contingência observada e uma tabela  de contingência esperada, partindo da hipótese de que não há associação entre as variáveis estudadas. Se a distribuição de frequências observadas for exatamente igual à distribuição de frequências esperadas, o resultado da estatística qui-quadrado é zero. Assim, um valor baixo de 𝝌² indica independência entre as variáveis.\n",
        "A equação é dada por:\n",
        "\n",
        "<img src='https://tse4.mm.bing.net/th?id=OIP.l74WKAxpqYmhDmWUDqXYjQAAAA&pid=Api&P=0&h=180'></img>\n",
        "\n",
        "em que:\n",
        "1. Oij:: são quantidade de observações na i-ésima categoria da variável X e na j-ésima categoria da variável Y\n",
        "2. Eij:: frequência esperada de observações na i-ésima categoria da variável X e na j-ésima categoria da variável Y</p>\n",
        "3. I: quantidade de categorias (linhas) da variável X;\n",
        "3. J: quantidade de categorias (colunas) da variável Y.</p>\n"
      ]
    },
    {
      "cell_type": "code",
      "execution_count": 1,
      "metadata": {
        "id": "Z67XwCtZc85k"
      },
      "outputs": [],
      "source": [
        "# importando bibliotecas\n",
        "import pandas as pd\n",
        "import numpy as np\n",
        "import random\n",
        "import scipy.stats as stats\n",
        "\n",
        "import matplotlib.pyplot as plt"
      ]
    },
    {
      "cell_type": "markdown",
      "metadata": {
        "id": "3AWXKGm7elMw"
      },
      "source": [
        "## **Resolução de case teórico**\n",
        "Aqui serão apresentados o passo-a-passo por trás do teste qui-quadrado de duas variáveis qualitativas para entendermos qual a relação entre as variáveis.\n",
        "\n",
        "##### **Criando dataset fictício para exemplo de estudo**\n",
        "\n",
        "A base de dados terá 200 amostras de avaliações de satisfação de pessoas com os planos de saúde \"Total Health\", \"Viva Vida\" e \"Mena Saúde\". As avaliações estão dispostas entre os níveis \"Baixo\", \"Médio\" e \"Alto\"."
      ]
    },
    {
      "cell_type": "code",
      "execution_count": 2,
      "metadata": {
        "colab": {
          "base_uri": "https://localhost:8080/",
          "height": 206
        },
        "id": "uWdg4eIBb5_2",
        "outputId": "cf28451d-8bde-4a80-a20a-aa451045cd22"
      },
      "outputs": [
        {
          "data": {
            "text/html": [
              "<div>\n",
              "<style scoped>\n",
              "    .dataframe tbody tr th:only-of-type {\n",
              "        vertical-align: middle;\n",
              "    }\n",
              "\n",
              "    .dataframe tbody tr th {\n",
              "        vertical-align: top;\n",
              "    }\n",
              "\n",
              "    .dataframe thead th {\n",
              "        text-align: right;\n",
              "    }\n",
              "</style>\n",
              "<table border=\"1\" class=\"dataframe\">\n",
              "  <thead>\n",
              "    <tr style=\"text-align: right;\">\n",
              "      <th></th>\n",
              "      <th>Operadora</th>\n",
              "      <th>Nível de satisfação</th>\n",
              "    </tr>\n",
              "  </thead>\n",
              "  <tbody>\n",
              "    <tr>\n",
              "      <th>0</th>\n",
              "      <td>Total Health</td>\n",
              "      <td>Baixo</td>\n",
              "    </tr>\n",
              "    <tr>\n",
              "      <th>1</th>\n",
              "      <td>Total Health</td>\n",
              "      <td>Baixo</td>\n",
              "    </tr>\n",
              "    <tr>\n",
              "      <th>2</th>\n",
              "      <td>Total Health</td>\n",
              "      <td>Baixo</td>\n",
              "    </tr>\n",
              "    <tr>\n",
              "      <th>3</th>\n",
              "      <td>Total Health</td>\n",
              "      <td>Baixo</td>\n",
              "    </tr>\n",
              "    <tr>\n",
              "      <th>4</th>\n",
              "      <td>Total Health</td>\n",
              "      <td>Baixo</td>\n",
              "    </tr>\n",
              "  </tbody>\n",
              "</table>\n",
              "</div>"
            ],
            "text/plain": [
              "      Operadora Nível de satisfação\n",
              "0  Total Health               Baixo\n",
              "1  Total Health               Baixo\n",
              "2  Total Health               Baixo\n",
              "3  Total Health               Baixo\n",
              "4  Total Health               Baixo"
            ]
          },
          "execution_count": 2,
          "metadata": {},
          "output_type": "execute_result"
        }
      ],
      "source": [
        "# Nomes dos planos de saúde e níveis de satisfação\n",
        "df = pd.read_csv('https://raw.githubusercontent.com/vitormarx/ciencia-de-dados/main/datasets/satisfacao.csv', delimiter=';')\n",
        "\n",
        "# Exiba as primeiras linhas do DataFrame\n",
        "df.head()"
      ]
    },
    {
      "cell_type": "markdown",
      "metadata": {
        "id": "8xZZxizmeCKE"
      },
      "source": [
        "## **Passo 1 - tabela de distribuição conjunta de frequências**\n",
        "\n",
        "A forma mais simples de resumir um conjunto de dados provenientes de duas variáveis qualitativas é por meio de uma tabela de distribuição conjunta de frequências, neste caso específico denominada tabela de contingência ou tabela de classificação cruzada (cross-tabulation) ou, ainda, tabela de correspondência que exibe, de forma conjunta, as frequências absolutas ou relativas das categorias da variável X, representada no eixo das abscissas, e da variável Y, representada no eixo das ordenadas."
      ]
    },
    {
      "cell_type": "code",
      "execution_count": 3,
      "metadata": {
        "colab": {
          "base_uri": "https://localhost:8080/",
          "height": 175
        },
        "id": "Cf44wMdBd9RE",
        "outputId": "92c46fc1-4364-4727-bb76-1e207af629b5"
      },
      "outputs": [
        {
          "data": {
            "text/html": [
              "<div>\n",
              "<style scoped>\n",
              "    .dataframe tbody tr th:only-of-type {\n",
              "        vertical-align: middle;\n",
              "    }\n",
              "\n",
              "    .dataframe tbody tr th {\n",
              "        vertical-align: top;\n",
              "    }\n",
              "\n",
              "    .dataframe thead th {\n",
              "        text-align: right;\n",
              "    }\n",
              "</style>\n",
              "<table border=\"1\" class=\"dataframe\">\n",
              "  <thead>\n",
              "    <tr style=\"text-align: right;\">\n",
              "      <th>Nível de satisfação</th>\n",
              "      <th>Baixo</th>\n",
              "      <th>Médio</th>\n",
              "      <th>Alto</th>\n",
              "    </tr>\n",
              "    <tr>\n",
              "      <th>Operadora</th>\n",
              "      <th></th>\n",
              "      <th></th>\n",
              "      <th></th>\n",
              "    </tr>\n",
              "  </thead>\n",
              "  <tbody>\n",
              "    <tr>\n",
              "      <th>Total Health</th>\n",
              "      <td>39</td>\n",
              "      <td>16</td>\n",
              "      <td>12</td>\n",
              "    </tr>\n",
              "    <tr>\n",
              "      <th>Viva Vida</th>\n",
              "      <td>32</td>\n",
              "      <td>24</td>\n",
              "      <td>16</td>\n",
              "    </tr>\n",
              "    <tr>\n",
              "      <th>Mena Saúde</th>\n",
              "      <td>24</td>\n",
              "      <td>32</td>\n",
              "      <td>4</td>\n",
              "    </tr>\n",
              "  </tbody>\n",
              "</table>\n",
              "</div>"
            ],
            "text/plain": [
              "Nível de satisfação  Baixo  Médio  Alto\n",
              "Operadora                              \n",
              "Total Health            39     16    12\n",
              "Viva Vida               32     24    16\n",
              "Mena Saúde              24     32     4"
            ]
          },
          "execution_count": 3,
          "metadata": {},
          "output_type": "execute_result"
        }
      ],
      "source": [
        "tabela_dcf = df.pivot_table(index='Operadora', columns='Nível de satisfação', aggfunc='size', fill_value=0)\n",
        "tabela_dcf = tabela_dcf.reindex(index=['Total Health', 'Viva Vida', 'Mena Saúde'], columns=['Baixo', 'Médio', 'Alto'])\n",
        "tabela_dcf.head()"
      ]
    },
    {
      "cell_type": "markdown",
      "metadata": {
        "id": "K9_Zi6FYjsgh"
      },
      "source": [
        "## **Passo 2 - Frequência absoluta esperada**\n",
        "\n",
        "A distribuição conjunta de frequências relativas em relação ao total de cada linha e a distribuição conjunta de frequências relativas em relação ao total de cad coluna."
      ]
    },
    {
      "cell_type": "code",
      "execution_count": 6,
      "metadata": {
        "colab": {
          "base_uri": "https://localhost:8080/",
          "height": 143
        },
        "id": "p9qJc9J7fk5b",
        "outputId": "28779799-e223-47a3-8461-b2b4c2753678"
      },
      "outputs": [
        {
          "data": {
            "text/html": [
              "<div>\n",
              "<style scoped>\n",
              "    .dataframe tbody tr th:only-of-type {\n",
              "        vertical-align: middle;\n",
              "    }\n",
              "\n",
              "    .dataframe tbody tr th {\n",
              "        vertical-align: top;\n",
              "    }\n",
              "\n",
              "    .dataframe thead th {\n",
              "        text-align: right;\n",
              "    }\n",
              "</style>\n",
              "<table border=\"1\" class=\"dataframe\">\n",
              "  <thead>\n",
              "    <tr style=\"text-align: right;\">\n",
              "      <th>Nível de satisfação</th>\n",
              "      <th>Baixo</th>\n",
              "      <th>Médio</th>\n",
              "      <th>Alto</th>\n",
              "    </tr>\n",
              "    <tr>\n",
              "      <th>Operadora</th>\n",
              "      <th></th>\n",
              "      <th></th>\n",
              "      <th></th>\n",
              "    </tr>\n",
              "  </thead>\n",
              "  <tbody>\n",
              "    <tr>\n",
              "      <th>Total Health</th>\n",
              "      <td>31.984925</td>\n",
              "      <td>24.241206</td>\n",
              "      <td>10.773869</td>\n",
              "    </tr>\n",
              "    <tr>\n",
              "      <th>Viva Vida</th>\n",
              "      <td>34.371859</td>\n",
              "      <td>26.050251</td>\n",
              "      <td>11.577889</td>\n",
              "    </tr>\n",
              "    <tr>\n",
              "      <th>Mena Saúde</th>\n",
              "      <td>28.643216</td>\n",
              "      <td>21.708543</td>\n",
              "      <td>9.648241</td>\n",
              "    </tr>\n",
              "  </tbody>\n",
              "</table>\n",
              "</div>"
            ],
            "text/plain": [
              "Nível de satisfação      Baixo      Médio       Alto\n",
              "Operadora                                           \n",
              "Total Health         31.984925  24.241206  10.773869\n",
              "Viva Vida            34.371859  26.050251  11.577889\n",
              "Mena Saúde           28.643216  21.708543   9.648241"
            ]
          },
          "execution_count": 6,
          "metadata": {},
          "output_type": "execute_result"
        }
      ],
      "source": [
        "n = len(df)\n",
        "freq_Operadora = df.Operadora.value_counts()\n",
        "freq_ns = df['Nível de satisfação'].value_counts()\n",
        "\n",
        "freq_esperada = pd.DataFrame(index=freq_Operadora.index, columns=freq_ns.index)\n",
        "\n",
        "for Operadora in freq_Operadora.index:\n",
        "    for satisfacao in freq_ns.index:\n",
        "        probabilidade_conjunta = (freq_Operadora[Operadora] * freq_ns[satisfacao])/n\n",
        "        freq_esperada.at[Operadora, satisfacao] = probabilidade_conjunta\n",
        "\n",
        "tabela_fe = freq_esperada.reindex(index=['Total Health', 'Viva Vida', 'Mena Saúde'], columns=['Baixo', 'Médio', 'Alto'])\n",
        "tabela_fe.head()"
      ]
    },
    {
      "cell_type": "markdown",
      "metadata": {
        "id": "Jl3AO2vYoA-4"
      },
      "source": [
        "## **Passo 3 - Resíduo**\n",
        "\n",
        "resíduos são a subtração das frequências relativas absolutas pelas frequências absoluta esperadas."
      ]
    },
    {
      "cell_type": "code",
      "execution_count": 7,
      "metadata": {
        "colab": {
          "base_uri": "https://localhost:8080/",
          "height": 175
        },
        "id": "QwLSm3MCjJZj",
        "outputId": "adbb2b69-4939-4804-938b-e09ff65c941b"
      },
      "outputs": [
        {
          "data": {
            "text/html": [
              "<div>\n",
              "<style scoped>\n",
              "    .dataframe tbody tr th:only-of-type {\n",
              "        vertical-align: middle;\n",
              "    }\n",
              "\n",
              "    .dataframe tbody tr th {\n",
              "        vertical-align: top;\n",
              "    }\n",
              "\n",
              "    .dataframe thead th {\n",
              "        text-align: right;\n",
              "    }\n",
              "</style>\n",
              "<table border=\"1\" class=\"dataframe\">\n",
              "  <thead>\n",
              "    <tr style=\"text-align: right;\">\n",
              "      <th>Nível de satisfação</th>\n",
              "      <th>Baixo</th>\n",
              "      <th>Médio</th>\n",
              "      <th>Alto</th>\n",
              "    </tr>\n",
              "    <tr>\n",
              "      <th>Operadora</th>\n",
              "      <th></th>\n",
              "      <th></th>\n",
              "      <th></th>\n",
              "    </tr>\n",
              "  </thead>\n",
              "  <tbody>\n",
              "    <tr>\n",
              "      <th>Total Health</th>\n",
              "      <td>7.015075</td>\n",
              "      <td>-8.241206</td>\n",
              "      <td>1.226131</td>\n",
              "    </tr>\n",
              "    <tr>\n",
              "      <th>Viva Vida</th>\n",
              "      <td>-2.371859</td>\n",
              "      <td>-2.050251</td>\n",
              "      <td>4.422111</td>\n",
              "    </tr>\n",
              "    <tr>\n",
              "      <th>Mena Saúde</th>\n",
              "      <td>-4.643216</td>\n",
              "      <td>10.291457</td>\n",
              "      <td>-5.648241</td>\n",
              "    </tr>\n",
              "  </tbody>\n",
              "</table>\n",
              "</div>"
            ],
            "text/plain": [
              "Nível de satisfação     Baixo      Médio      Alto\n",
              "Operadora                                         \n",
              "Total Health         7.015075  -8.241206  1.226131\n",
              "Viva Vida           -2.371859  -2.050251  4.422111\n",
              "Mena Saúde          -4.643216  10.291457 -5.648241"
            ]
          },
          "execution_count": 7,
          "metadata": {},
          "output_type": "execute_result"
        }
      ],
      "source": [
        "residuo = tabela_dcf - tabela_fe\n",
        "residuo.head()"
      ]
    },
    {
      "cell_type": "markdown",
      "metadata": {
        "id": "h-r_obswp46J"
      },
      "source": [
        "## **Passo 4 - 𝝌² (qui-quadrado)**\n",
        "\n",
        "Por fim, a estatística 𝝌² é dada pelo quadrado do resíduo sobre a frequência absoluta esperada.\n"
      ]
    },
    {
      "cell_type": "code",
      "execution_count": 8,
      "metadata": {
        "colab": {
          "base_uri": "https://localhost:8080/"
        },
        "id": "ik0CwzFap2OC",
        "outputId": "90b663a5-47bd-403c-cdff-f03d868c15f7"
      },
      "outputs": [
        {
          "name": "stdout",
          "output_type": "stream",
          "text": [
            "valor de 𝝌²: 15.43\n"
          ]
        }
      ],
      "source": [
        "X2 = ((residuo**2)/tabela_fe).values.sum()\n",
        "print(f'valor de 𝝌²: {X2:.2f}')"
      ]
    },
    {
      "cell_type": "markdown",
      "metadata": {
        "id": "4dF0dJQEsCRJ"
      },
      "source": [
        "Para analisármos o tipo de relação das duas variáveis, precisamos realizar um teste de hipóteses. Onde:\n",
        "\n",
        "1. Ho = as variáveis não são associadas\n",
        "2. H1 = as variáveis são associadas significativamente\n",
        "\n",
        "## **Passo 5 - Teste de Hipótese**"
      ]
    },
    {
      "cell_type": "code",
      "execution_count": 10,
      "metadata": {
        "colab": {
          "base_uri": "https://localhost:8080/",
          "height": 453
        },
        "id": "eSPMfE4cq6Pi",
        "outputId": "ee2de98e-9821-4105-e48c-7a7f0bbbc819"
      },
      "outputs": [
        {
          "data": {
            "image/png": "[encoded data removed]",
            "text/plain": [
              "<Figure size 640x480 with 1 Axes>"
            ]
          },
          "metadata": {},
          "output_type": "display_data"
        }
      ],
      "source": [
        "# realizando teste de hipóteses\n",
        "alpha = 0.05\n",
        "graus_de_liberdade = int((len(df['Nível de satisfação'].value_counts().index)-1) + (len(df.Operadora.value_counts().index)-1))\n",
        "valor_critico = stats.chi2.ppf(1 - alpha, graus_de_liberdade) # tabela\n",
        "\n",
        "x = np.linspace(0, 2 * valor_critico, n)\n",
        "y = stats.chi2.pdf(x, graus_de_liberdade) #distribuição qui-quadrado\n",
        "\n",
        "plt.plot(x, y)\n",
        "plt.axvline(x=valor_critico, color='red', linestyle='--', label=f'Valor Crítico')\n",
        "plt.axvline(x=X2, color='green', linestyle='--', label=f'Valor Qui²')\n",
        "plt.fill_between(x, 0, y, where=(x >= valor_critico), color='red', alpha=0.2, label='Rejeição de Ho')\n",
        "plt.fill_between(x, 0, y, where=(x <= valor_critico), color='blue', alpha=0.2, label='Aceitação de Ho')\n",
        "\n",
        "\n",
        "plt.title(f'Teste de Hipótese')\n",
        "plt.legend()\n",
        "plt.grid(True)\n",
        "plt.show()"
      ]
    },
    {
      "cell_type": "markdown",
      "metadata": {},
      "source": [
        "Temos que o valor de qui-quadrado está na região de rejeição da hipótese nula (Ho), portanto, podemos afirmar que as variáveis estão associadas significativamente com nível de significância 5%."
      ]
    }
  ],
  "metadata": {
    "colab": {
      "authorship_tag": "ABX9TyPuQhP0y9c6acsirSRBwick",
      "provenance": []
    },
    "kernelspec": {
      "display_name": "Python 3",
      "name": "python3"
    },
    "language_info": {
      "codemirror_mode": {
        "name": "ipython",
        "version": 3
      },
      "file_extension": ".py",
      "mimetype": "text/x-python",
      "name": "python",
      "nbconvert_exporter": "python",
      "pygments_lexer": "ipython3",
      "version": "3.11.4"
    }
  },
  "nbformat": 4,
  "nbformat_minor": 0
}
