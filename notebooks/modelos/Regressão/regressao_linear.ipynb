{
 "cells": [
  {
   "cell_type": "markdown",
   "metadata": {},
   "source": [
    "# **Regressão Linear Simples**\n",
    "\n",
    "A Regressão Linear Simples modela a magnitude de uma variável e aquela de uma segunda. Mas, e a correlação? A correlação é outra forma de medir como duas variáveis se relacionam. A diferença é que enquanto a correlação mede a força de uma associação entre duas variáveis, a regressão quantifica a natureza do relacionamento.\n",
    "\n",
    "### A Equação de Regressão\n",
    "\n",
    "A Regressão Linear Simples estima xatamente o quanto Y mudará quando X mudar em uma certa quantidade. Com a regressão estamos tentando prever a variável Y a partir de X usando um relacionamento linear.\n",
    "\n",
    "<img src=\"https://wikimedia.org/api/rest_v1/media/math/render/svg/731c6bb6ae3b5f933db68a82e7377e63910a887c\"></img>\n",
    "\n",
    "O símbolo α é conhecido como o *intercepto* (ou constante), e o símbolo β, como o *declive* para X. A variável Y é conhecida como resposta ou variável dependente, já que depende de X. A variável X é conhecida como preditora ou variável independente. A seguir está um exemplo da linha de regressão de um modelo.\n",
    "\n",
    "<img src='https://upload.wikimedia.org/wikipedia/commons/9/9e/Reta_Regressora.jpg' height=\"300\" width=\"400\"></img>"
   ]
  },
  {
   "cell_type": "code",
   "execution_count": 1,
   "metadata": {},
   "outputs": [],
   "source": [
    "# importando bibliotecas\n",
    "import numpy as np\n",
    "\n",
    "import matplotlib.pyplot as plt\n",
    "import seaborn as sns"
   ]
  },
  {
   "cell_type": "code",
   "execution_count": 2,
   "metadata": {},
   "outputs": [
    {
     "data": {
      "image/png": "[encoded data removed]",
      "text/plain": [
       "<Figure size 600x600 with 1 Axes>"
      ]
     },
     "metadata": {},
     "output_type": "display_data"
    }
   ],
   "source": [
    "# produzindo dados aleatórios para regressão\n",
    "m = np.random.randint(1,4)  # inclinação\n",
    "b = np.random.randint(3,10)  # interceptação\n",
    "\n",
    "# Gerar dados x\n",
    "X = np.linspace(0, 10, 100)\n",
    "\n",
    "ruido = np.random.normal(0, 1.5, size=len(X)) # Gerar dados y sem ruído\n",
    "Y = (m * X + b) + ruido\n",
    "\n",
    "plt.figure(figsize=(6,6))\n",
    "sns.scatterplot(x=X, y=Y)\n",
    "plt.title('Dispersão dos dados de análise')\n",
    "plt.xlabel('Variável preditora')\n",
    "plt.ylabel('Valor')\n",
    "plt.grid()\n",
    "plt.show()"
   ]
  },
  {
   "cell_type": "markdown",
   "metadata": {},
   "source": [
    "### Valores Ajustados e Resíduos\n",
    "\n",
    "Em geral, os dados não ficam exatamente em uma linha, então a equação de regressão deveria incluir um termo de erro:\n",
    "\n",
    "<img src=\"https://wikimedia.org/api/rest_v1/media/math/render/svg/4681e28c4c164084adb063912d49bc12f6905d5c\"></img>\n",
    "\n",
    "Calculamos os residuos *ei* subtaindo os valores previstos dos dados originais.\n",
    "\n",
    "<img src='https://wikiciencias.casadasciencias.org/wiki/images/9/91/Min_quad.png'></img>\n",
    "\n",
    "### Mínimos Quadrados\n",
    "\n",
    "Para entender como um modelo se ajusta aos dados, temos que, na prática fazemos a estimativa que minimiza a soma dos valores quadrados do resíduo, também chamados de *residual sum of squares (RSS)*:\n",
    "\n",
    "<img src='https://wikimedia.org/api/rest_v1/media/math/render/svg/15525c58b414d014b7d44d802826ca39fa54c7e1'></img>\n",
    "\n",
    "As estimativas α e β são os valores que minimizam RSS\n"
   ]
  },
  {
   "cell_type": "code",
   "execution_count": 14,
   "metadata": {},
   "outputs": [],
   "source": [
    "def calcular_coeficientes(X, Y):\n",
    "\n",
    "    y_bar = np.mean(Y)\n",
    "    x_bar = np.mean(X)\n",
    "\n",
    "    beta = []\n",
    "    if X.ndim == 1:\n",
    "        beta.append(np.dot(Y-y_bar, X[:] - x_bar) / sum((X[:]-x_bar)**2))\n",
    "    else:\n",
    "        for x in range(X.ndim):\n",
    "            beta.append(np.dot(Y-y_bar, X[:,x] - x_bar) / sum((X[:,x]-x_bar)**2))\n",
    "    \n",
    "    alpha = y_bar - (beta*x_bar)\n",
    "\n",
    "    return alpha, beta\n",
    "\n",
    "def regressao_linear(alpha, beta, X):\n",
    "\n",
    "    Y_reg = alpha + beta * X\n",
    "    return Y_reg\n",
    "\n",
    "def calcular_RSS(Y, Y_pred) -> float:\n",
    "\n",
    "    RSS = sum((Y - Y_pred)**2)\n",
    "    return RSS"
   ]
  },
  {
   "cell_type": "code",
   "execution_count": 15,
   "metadata": {},
   "outputs": [
    {
     "ename": "AttributeError",
     "evalue": "'list' object has no attribute 'values'",
     "output_type": "error",
     "traceback": [
      "\u001b[1;31m---------------------------------------------------------------------------\u001b[0m",
      "\u001b[1;31mAttributeError\u001b[0m                            Traceback (most recent call last)",
      "\u001b[1;32mc:\\Users\\marxp\\OneDrive\\Área de Trabalho\\VITOR MARX\\Estudo\\ciencia-de-dados\\notebooks\\modelos\\Regressão\\regressao_linear.ipynb Cell 6\u001b[0m line \u001b[0;36m1\n\u001b[1;32m----> <a href='vscode-notebook-cell:/c%3A/Users/marxp/OneDrive/%C3%81rea%20de%20Trabalho/VITOR%20MARX/Estudo/ciencia-de-dados/notebooks/modelos/Regress%C3%A3o/regressao_linear.ipynb#W5sZmlsZQ%3D%3D?line=0'>1</a>\u001b[0m a, b \u001b[39m=\u001b[39m calcular_coeficientes(X, Y)\n\u001b[0;32m      <a href='vscode-notebook-cell:/c%3A/Users/marxp/OneDrive/%C3%81rea%20de%20Trabalho/VITOR%20MARX/Estudo/ciencia-de-dados/notebooks/modelos/Regress%C3%A3o/regressao_linear.ipynb#W5sZmlsZQ%3D%3D?line=1'>2</a>\u001b[0m y_pred \u001b[39m=\u001b[39m regressao_linear(a, b, X)\n\u001b[0;32m      <a href='vscode-notebook-cell:/c%3A/Users/marxp/OneDrive/%C3%81rea%20de%20Trabalho/VITOR%20MARX/Estudo/ciencia-de-dados/notebooks/modelos/Regress%C3%A3o/regressao_linear.ipynb#W5sZmlsZQ%3D%3D?line=2'>3</a>\u001b[0m RSS \u001b[39m=\u001b[39m calcular_RSS(Y, y_pred)\n",
      "\u001b[1;32mc:\\Users\\marxp\\OneDrive\\Área de Trabalho\\VITOR MARX\\Estudo\\ciencia-de-dados\\notebooks\\modelos\\Regressão\\regressao_linear.ipynb Cell 6\u001b[0m line \u001b[0;36m1\n\u001b[0;32m     <a href='vscode-notebook-cell:/c%3A/Users/marxp/OneDrive/%C3%81rea%20de%20Trabalho/VITOR%20MARX/Estudo/ciencia-de-dados/notebooks/modelos/Regress%C3%A3o/regressao_linear.ipynb#W5sZmlsZQ%3D%3D?line=9'>10</a>\u001b[0m     \u001b[39mfor\u001b[39;00m x \u001b[39min\u001b[39;00m \u001b[39mrange\u001b[39m(X\u001b[39m.\u001b[39mndim):\n\u001b[0;32m     <a href='vscode-notebook-cell:/c%3A/Users/marxp/OneDrive/%C3%81rea%20de%20Trabalho/VITOR%20MARX/Estudo/ciencia-de-dados/notebooks/modelos/Regress%C3%A3o/regressao_linear.ipynb#W5sZmlsZQ%3D%3D?line=10'>11</a>\u001b[0m         beta\u001b[39m.\u001b[39mappend(np\u001b[39m.\u001b[39mdot(Y\u001b[39m-\u001b[39my_bar, X[:,x] \u001b[39m-\u001b[39m x_bar) \u001b[39m/\u001b[39m \u001b[39msum\u001b[39m((X[:,x]\u001b[39m-\u001b[39mx_bar)\u001b[39m*\u001b[39m\u001b[39m*\u001b[39m\u001b[39m2\u001b[39m))\n\u001b[1;32m---> <a href='vscode-notebook-cell:/c%3A/Users/marxp/OneDrive/%C3%81rea%20de%20Trabalho/VITOR%20MARX/Estudo/ciencia-de-dados/notebooks/modelos/Regress%C3%A3o/regressao_linear.ipynb#W5sZmlsZQ%3D%3D?line=12'>13</a>\u001b[0m alpha \u001b[39m=\u001b[39m y_bar \u001b[39m-\u001b[39m (beta\u001b[39m.\u001b[39mvalues\u001b[39m*\u001b[39mx_bar)\n\u001b[0;32m     <a href='vscode-notebook-cell:/c%3A/Users/marxp/OneDrive/%C3%81rea%20de%20Trabalho/VITOR%20MARX/Estudo/ciencia-de-dados/notebooks/modelos/Regress%C3%A3o/regressao_linear.ipynb#W5sZmlsZQ%3D%3D?line=14'>15</a>\u001b[0m \u001b[39mreturn\u001b[39;00m alpha, beta\n",
      "\u001b[1;31mAttributeError\u001b[0m: 'list' object has no attribute 'values'"
     ]
    }
   ],
   "source": [
    "a, b = calcular_coeficientes(X, Y)\n",
    "y_pred = regressao_linear(a, b, X)\n",
    "RSS = calcular_RSS(Y, y_pred)\n",
    "\n",
    "print(f'Intercepto: {a:.2f}')\n",
    "print(f'Coeficiente: {b:.2f}')\n",
    "print(f'Residual Sum of Squares (RSS): {RSS:.2f}')\n",
    "\n",
    "plt.figure(figsize=(6,6))\n",
    "sns.scatterplot(x=X, y=Y, label='Valores reais')\n",
    "plt.plot(X, y_pred, label='Reta de Regressão', color='red')\n",
    "plt.title('Dispersão dos dados de análise')\n",
    "plt.xlabel('Variável preditora')\n",
    "plt.ylabel('Valor')\n",
    "plt.xlim(0-1,max(X)+1)\n",
    "plt.legend()\n",
    "plt.grid()\n",
    "plt.show()"
   ]
  },
  {
   "cell_type": "code",
   "execution_count": 22,
   "metadata": {},
   "outputs": [
    {
     "ename": "TypeError",
     "evalue": "index expected at least 1 argument, got 0",
     "output_type": "error",
     "traceback": [
      "\u001b[1;31m---------------------------------------------------------------------------\u001b[0m",
      "\u001b[1;31mTypeError\u001b[0m                                 Traceback (most recent call last)",
      "\u001b[1;32mc:\\Users\\marxp\\OneDrive\\Área de Trabalho\\VITOR MARX\\Estudo\\ciencia-de-dados\\notebooks\\modelos\\Regressão\\regressao_linear.ipynb Cell 7\u001b[0m line \u001b[0;36m1\n\u001b[1;32m----> <a href='vscode-notebook-cell:/c%3A/Users/marxp/OneDrive/%C3%81rea%20de%20Trabalho/VITOR%20MARX/Estudo/ciencia-de-dados/notebooks/modelos/Regress%C3%A3o/regressao_linear.ipynb#X12sZmlsZQ%3D%3D?line=0'>1</a>\u001b[0m [b]\u001b[39m.\u001b[39mindex()\n",
      "\u001b[1;31mTypeError\u001b[0m: index expected at least 1 argument, got 0"
     ]
    }
   ],
   "source": []
  },
  {
   "cell_type": "markdown",
   "metadata": {},
   "source": [
    "Um modelo d regressão acomoda bem s dados de modo que as mudanças de X levem a mudanças em Y. No entanto, a equação de regressão não prova a direção da causa. É o nosso conhecimento sobre o processo e o business, que leva à conclusão de quem impacta quem.\n",
    "\n",
    "# **Regressão Linear Múltipla**\n",
    "\n",
    "Quando existem múltiplas varipaveis preditoras, a equação simplesmente s estende para acomodá-las.\n",
    "\n",
    "<img src='https://wikimedia.org/api/rest_v1/media/math/render/svg/b7ade53ead459e6683f434982ee6811e028eda7f'></img>\n",
    "\n",
    "Em vez de uma linha reta, agora temos um modelo linear e o relacionamento entre cada coeficiente e sua variável é linear. Todos os outros conceitos em egressão linear simples se estendem para a configuação da regressão linear múltipla."
   ]
  },
  {
   "cell_type": "markdown",
   "metadata": {},
   "source": []
  }
 ],
 "metadata": {
  "kernelspec": {
   "display_name": "base",
   "language": "python",
   "name": "python3"
  },
  "language_info": {
   "codemirror_mode": {
    "name": "ipython",
    "version": 3
   },
   "file_extension": ".py",
   "mimetype": "text/x-python",
   "name": "python",
   "nbconvert_exporter": "python",
   "pygments_lexer": "ipython3",
   "version": "3.11.5"
  }
 },
 "nbformat": 4,
 "nbformat_minor": 2
}
