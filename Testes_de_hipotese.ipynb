{
  "nbformat": 4,
  "nbformat_minor": 0,
  "metadata": {
    "colab": {
      "provenance": [],
      "authorship_tag": "ABX9TyOgoqasJT7k69oZjvxyd7Th"
    },
    "kernelspec": {
      "name": "python3",
      "display_name": "Python 3"
    },
    "language_info": {
      "name": "python"
    }
  },
  "cells": [
    {
      "cell_type": "code",
      "source": [
        "import matplotlib.pyplot as plt\n",
        "import seaborn as sns\n",
        "import pandas as pd\n",
        "import numpy as np\n",
        "import math\n",
        "import random\n",
        "import scipy.stats as stats"
      ],
      "metadata": {
        "id": "ej4cODLhtfpn"
      },
      "execution_count": 1,
      "outputs": []
    },
    {
      "cell_type": "markdown",
      "source": [
        "# **Teste de Hipótese (teste estatístico)**\n",
        "\n",
        "O teste de hipóteses é uma metodologia estatística que nos auxilia na tomada de decisões sobre uma ou mais populações baseada na informação obtida na amostra. Ela nos permite verificar se dados amostrais trazem evidências que apoiem ou não uma hipótese estatística formulada. Muitas vezes cientistas de dados precisam fazer testes para confirmar se uma determinada hipótese é verdadeira. Hipóteses são afirmações como \"Cientistas preferem ambiente cloud do que On Premisse\" ou \"É mais provável que as pessoas reprovem o data master antes de serem aprovadas\". O esquema clássico contém:\n",
        "\n",
        "- **hipótese nula (H0):** Ela afirma que o parâmetro populacional assume um certo valor ou premissa.\n",
        "- **hipótese alernativa (H1):** Ela afirma que o parâmetro populacional assume valores diferentes do valor descrito por H0.\n",
        "\n",
        "Em todo processo decisório, em que temos que escolher dois cursos de ação, sempre podemos cometer erros. O mesmo acontece em um teste de hipóteses. Basicamente dois tipos de erros podem ocorrer:\n",
        "\n",
        "- **Erro tipo I:** Quando rejeitamos a hipótese nula, porém, ela é verdadeira.\n",
        "- **Erro tipo II:** Quando não rejeitamos a hipótese nula, porém, ela é falsa.\n",
        "\n",
        "# **VALOR CRÍTICO**\n",
        "Um valor crítico é um ponto sobre a distribuição da estatística de teste sob a hipótese nula, que define um conjunto de valores para rejeitar a hipótese nula. Esse conjunto é chamado de região crítica ou de rejeição. Normalmente, os testes unilaterais têm um valor crítico, e os testes bilaterais têm dois valores críticos.\n",
        "\n",
        "<img src='https://tse2.mm.bing.net/th?id=OIP.7znhtKEPxtasmxyatyLeegHaE5&pid=Api&P=0&h=180'>\n",
        "\n",
        "# **Tipos de teste de hipótese**\n",
        "**Teste t:** Usado para comparação de duas amostras com distribuição próxima a gaussiana e desvio padrão agrupados.\n",
        "\n",
        "<img src='https://wikimedia.org/api/rest_v1/media/math/render/svg/f315cf5bf20ef031c0d7ec1d65fc075b4789b096'>\n",
        "\n",
        "\n",
        "# **Valor-p**\n",
        "uma das variantes mais importantes do teste de hipóteses, o valor de p.\n",
        "Não importa o teste estatístico que se faça, sempre se reporta o valor de p para dizer se houve ou não efeitos significativos.\n",
        "\n",
        "Os programas estatísticos usualmente fornecem diretamente o valor de p quando realizamos testes de hipóteses. O valor p é a probabilidade de uma métrica de um teste estatístico qualquer ser maior que o valor observado, assumindo que a H0 é verdadeira.\n",
        "\n",
        "\n",
        "# **Passo a passo do teste de hipóteses**\n",
        "\n",
        "1. Defina hipóteses nulas e alternativas\n",
        "\n",
        "2. Navegar nos dados, verificar suposições\n",
        "\n",
        "3. Calcular estatística de teste\n",
        "\n",
        "4. Determine o valor p correspondente\n",
        "\n",
        "5. Tome uma decisão sobre a hipótese nula.\n",
        "\n",
        "\n",
        "\n",
        "\n"
      ],
      "metadata": {
        "id": "PtY-jKQRPbwO"
      }
    },
    {
      "cell_type": "code",
      "source": [
        "raw_data = pd.read_csv('https://raw.githubusercontent.com/Kavitha-Kothandaraman/Advanced-Statistics-Hypothesis-Analysis/master/insurance.csv')\n",
        "raw_data.head()"
      ],
      "metadata": {
        "colab": {
          "base_uri": "https://localhost:8080/",
          "height": 206
        },
        "id": "ZL9wWyeksl1a",
        "outputId": "1e922124-e29b-4c03-9f49-65c45ec5ba22"
      },
      "execution_count": 2,
      "outputs": [
        {
          "output_type": "execute_result",
          "data": {
            "text/plain": [
              "   age     sex     bmi  children smoker     region      charges\n",
              "0   19  female  27.900         0    yes  southwest  16884.92400\n",
              "1   18    male  33.770         1     no  southeast   1725.55230\n",
              "2   28    male  33.000         3     no  southeast   4449.46200\n",
              "3   33    male  22.705         0     no  northwest  21984.47061\n",
              "4   32    male  28.880         0     no  northwest   3866.85520"
            ],
            "text/html": [
              "\n",
              "  <div id=\"df-4ae70cb9-26cf-4906-8480-27475886e608\" class=\"colab-df-container\">\n",
              "    <div>\n",
              "<style scoped>\n",
              "    .dataframe tbody tr th:only-of-type {\n",
              "        vertical-align: middle;\n",
              "    }\n",
              "\n",
              "    .dataframe tbody tr th {\n",
              "        vertical-align: top;\n",
              "    }\n",
              "\n",
              "    .dataframe thead th {\n",
              "        text-align: right;\n",
              "    }\n",
              "</style>\n",
              "<table border=\"1\" class=\"dataframe\">\n",
              "  <thead>\n",
              "    <tr style=\"text-align: right;\">\n",
              "      <th></th>\n",
              "      <th>age</th>\n",
              "      <th>sex</th>\n",
              "      <th>bmi</th>\n",
              "      <th>children</th>\n",
              "      <th>smoker</th>\n",
              "      <th>region</th>\n",
              "      <th>charges</th>\n",
              "    </tr>\n",
              "  </thead>\n",
              "  <tbody>\n",
              "    <tr>\n",
              "      <th>0</th>\n",
              "      <td>19</td>\n",
              "      <td>female</td>\n",
              "      <td>27.900</td>\n",
              "      <td>0</td>\n",
              "      <td>yes</td>\n",
              "      <td>southwest</td>\n",
              "      <td>16884.92400</td>\n",
              "    </tr>\n",
              "    <tr>\n",
              "      <th>1</th>\n",
              "      <td>18</td>\n",
              "      <td>male</td>\n",
              "      <td>33.770</td>\n",
              "      <td>1</td>\n",
              "      <td>no</td>\n",
              "      <td>southeast</td>\n",
              "      <td>1725.55230</td>\n",
              "    </tr>\n",
              "    <tr>\n",
              "      <th>2</th>\n",
              "      <td>28</td>\n",
              "      <td>male</td>\n",
              "      <td>33.000</td>\n",
              "      <td>3</td>\n",
              "      <td>no</td>\n",
              "      <td>southeast</td>\n",
              "      <td>4449.46200</td>\n",
              "    </tr>\n",
              "    <tr>\n",
              "      <th>3</th>\n",
              "      <td>33</td>\n",
              "      <td>male</td>\n",
              "      <td>22.705</td>\n",
              "      <td>0</td>\n",
              "      <td>no</td>\n",
              "      <td>northwest</td>\n",
              "      <td>21984.47061</td>\n",
              "    </tr>\n",
              "    <tr>\n",
              "      <th>4</th>\n",
              "      <td>32</td>\n",
              "      <td>male</td>\n",
              "      <td>28.880</td>\n",
              "      <td>0</td>\n",
              "      <td>no</td>\n",
              "      <td>northwest</td>\n",
              "      <td>3866.85520</td>\n",
              "    </tr>\n",
              "  </tbody>\n",
              "</table>\n",
              "</div>\n",
              "    <div class=\"colab-df-buttons\">\n",
              "\n",
              "  <div class=\"colab-df-container\">\n",
              "    <button class=\"colab-df-convert\" onclick=\"convertToInteractive('df-4ae70cb9-26cf-4906-8480-27475886e608')\"\n",
              "            title=\"Convert this dataframe to an interactive table.\"\n",
              "            style=\"display:none;\">\n",
              "\n",
              "  <svg xmlns=\"http://www.w3.org/2000/svg\" height=\"24px\" viewBox=\"0 -960 960 960\">\n",
              "    <path d=\"M120-120v-720h720v720H120Zm60-500h600v-160H180v160Zm220 220h160v-160H400v160Zm0 220h160v-160H400v160ZM180-400h160v-160H180v160Zm440 0h160v-160H620v160ZM180-180h160v-160H180v160Zm440 0h160v-160H620v160Z\"/>\n",
              "  </svg>\n",
              "    </button>\n",
              "\n",
              "  <style>\n",
              "    .colab-df-container {\n",
              "      display:flex;\n",
              "      gap: 12px;\n",
              "    }\n",
              "\n",
              "    .colab-df-convert {\n",
              "      background-color: #E8F0FE;\n",
              "      border: none;\n",
              "      border-radius: 50%;\n",
              "      cursor: pointer;\n",
              "      display: none;\n",
              "      fill: #1967D2;\n",
              "      height: 32px;\n",
              "      padding: 0 0 0 0;\n",
              "      width: 32px;\n",
              "    }\n",
              "\n",
              "    .colab-df-convert:hover {\n",
              "      background-color: #E2EBFA;\n",
              "      box-shadow: 0px 1px 2px rgba(60, 64, 67, 0.3), 0px 1px 3px 1px rgba(60, 64, 67, 0.15);\n",
              "      fill: #174EA6;\n",
              "    }\n",
              "\n",
              "    .colab-df-buttons div {\n",
              "      margin-bottom: 4px;\n",
              "    }\n",
              "\n",
              "    [theme=dark] .colab-df-convert {\n",
              "      background-color: #3B4455;\n",
              "      fill: #D2E3FC;\n",
              "    }\n",
              "\n",
              "    [theme=dark] .colab-df-convert:hover {\n",
              "      background-color: #434B5C;\n",
              "      box-shadow: 0px 1px 3px 1px rgba(0, 0, 0, 0.15);\n",
              "      filter: drop-shadow(0px 1px 2px rgba(0, 0, 0, 0.3));\n",
              "      fill: #FFFFFF;\n",
              "    }\n",
              "  </style>\n",
              "\n",
              "    <script>\n",
              "      const buttonEl =\n",
              "        document.querySelector('#df-4ae70cb9-26cf-4906-8480-27475886e608 button.colab-df-convert');\n",
              "      buttonEl.style.display =\n",
              "        google.colab.kernel.accessAllowed ? 'block' : 'none';\n",
              "\n",
              "      async function convertToInteractive(key) {\n",
              "        const element = document.querySelector('#df-4ae70cb9-26cf-4906-8480-27475886e608');\n",
              "        const dataTable =\n",
              "          await google.colab.kernel.invokeFunction('convertToInteractive',\n",
              "                                                    [key], {});\n",
              "        if (!dataTable) return;\n",
              "\n",
              "        const docLinkHtml = 'Like what you see? Visit the ' +\n",
              "          '<a target=\"_blank\" href=https://colab.research.google.com/notebooks/data_table.ipynb>data table notebook</a>'\n",
              "          + ' to learn more about interactive tables.';\n",
              "        element.innerHTML = '';\n",
              "        dataTable['output_type'] = 'display_data';\n",
              "        await google.colab.output.renderOutput(dataTable, element);\n",
              "        const docLink = document.createElement('div');\n",
              "        docLink.innerHTML = docLinkHtml;\n",
              "        element.appendChild(docLink);\n",
              "      }\n",
              "    </script>\n",
              "  </div>\n",
              "\n",
              "\n",
              "<div id=\"df-84dd680b-786c-4d59-9cda-1b5b6b578d26\">\n",
              "  <button class=\"colab-df-quickchart\" onclick=\"quickchart('df-84dd680b-786c-4d59-9cda-1b5b6b578d26')\"\n",
              "            title=\"Suggest charts.\"\n",
              "            style=\"display:none;\">\n",
              "\n",
              "<svg xmlns=\"http://www.w3.org/2000/svg\" height=\"24px\"viewBox=\"0 0 24 24\"\n",
              "     width=\"24px\">\n",
              "    <g>\n",
              "        <path d=\"M19 3H5c-1.1 0-2 .9-2 2v14c0 1.1.9 2 2 2h14c1.1 0 2-.9 2-2V5c0-1.1-.9-2-2-2zM9 17H7v-7h2v7zm4 0h-2V7h2v10zm4 0h-2v-4h2v4z\"/>\n",
              "    </g>\n",
              "</svg>\n",
              "  </button>\n",
              "\n",
              "<style>\n",
              "  .colab-df-quickchart {\n",
              "    background-color: #E8F0FE;\n",
              "    border: none;\n",
              "    border-radius: 50%;\n",
              "    cursor: pointer;\n",
              "    display: none;\n",
              "    fill: #1967D2;\n",
              "    height: 32px;\n",
              "    padding: 0 0 0 0;\n",
              "    width: 32px;\n",
              "  }\n",
              "\n",
              "  .colab-df-quickchart:hover {\n",
              "    background-color: #E2EBFA;\n",
              "    box-shadow: 0px 1px 2px rgba(60, 64, 67, 0.3), 0px 1px 3px 1px rgba(60, 64, 67, 0.15);\n",
              "    fill: #174EA6;\n",
              "  }\n",
              "\n",
              "  [theme=dark] .colab-df-quickchart {\n",
              "    background-color: #3B4455;\n",
              "    fill: #D2E3FC;\n",
              "  }\n",
              "\n",
              "  [theme=dark] .colab-df-quickchart:hover {\n",
              "    background-color: #434B5C;\n",
              "    box-shadow: 0px 1px 3px 1px rgba(0, 0, 0, 0.15);\n",
              "    filter: drop-shadow(0px 1px 2px rgba(0, 0, 0, 0.3));\n",
              "    fill: #FFFFFF;\n",
              "  }\n",
              "</style>\n",
              "\n",
              "  <script>\n",
              "    async function quickchart(key) {\n",
              "      const charts = await google.colab.kernel.invokeFunction(\n",
              "          'suggestCharts', [key], {});\n",
              "    }\n",
              "    (() => {\n",
              "      let quickchartButtonEl =\n",
              "        document.querySelector('#df-84dd680b-786c-4d59-9cda-1b5b6b578d26 button');\n",
              "      quickchartButtonEl.style.display =\n",
              "        google.colab.kernel.accessAllowed ? 'block' : 'none';\n",
              "    })();\n",
              "  </script>\n",
              "</div>\n",
              "    </div>\n",
              "  </div>\n"
            ]
          },
          "metadata": {},
          "execution_count": 2
        }
      ]
    },
    {
      "cell_type": "markdown",
      "source": [
        "Neste caso de estudo investigaremos a relação de mulheres e homens adultos (18 a 50 anos) com o bmi(body mass index). Suspeitamos que os homens adultos têm um índice de massa corporal significamente maior que o das mulheres.\n",
        "\n",
        "**Passo 1:** Definir hipóteses\n",
        "- H0 = Há diferença significativa no bmi médio de mulheres e homens adultos\n",
        "- H1 = Não há diferença significativa no bmi médio de mulheres e homens adultos"
      ],
      "metadata": {
        "id": "iOwHUloN2Xn9"
      }
    },
    {
      "cell_type": "code",
      "source": [
        "alpha = 0.05 # nível de significância"
      ],
      "metadata": {
        "id": "MTtu_Iog4V6x"
      },
      "execution_count": 3,
      "outputs": []
    },
    {
      "cell_type": "markdown",
      "source": [
        "**Passo 2:** Examine os dados e verifique as suposições\n",
        "\n",
        "Nesta etapa, os dados serão filtrados para incluir apenas adultos que estão entre 18 e 50 anos. Depois disso, precisamos fazer alguns cálculos estatísticos como a média, o mínimo, o máximo, o desvio padrão e o tamanho da amostra para homens e mulheres.\n",
        "\n",
        "Algumas das suposições que devemos verificar são as seguintes:\n",
        "\n",
        "1. As amostras são consideradas amostras aleatórias simples\n",
        "2. As amostras são independentes umas das outras\n",
        "3. Ambas as populações de resposta são aproximadamente normais ou os tamanhos das amostras são grandes o suficiente."
      ],
      "metadata": {
        "id": "jkDfyDlk4fZl"
      }
    },
    {
      "cell_type": "code",
      "source": [
        "adultos = raw_data[(raw_data['age']>=18) & (raw_data['age']<=50)] # filtrando idade\n",
        "adultos = adultos[['sex', 'bmi']] # selecionando vaiáveis de interesse\n",
        "\n",
        "adultos.shape"
      ],
      "metadata": {
        "colab": {
          "base_uri": "https://localhost:8080/"
        },
        "id": "O6frbboc4aY0",
        "outputId": "c4b131dd-9773-449d-fdce-ba745335db56"
      },
      "execution_count": 4,
      "outputs": [
        {
          "output_type": "execute_result",
          "data": {
            "text/plain": [
              "(982, 2)"
            ]
          },
          "metadata": {},
          "execution_count": 4
        }
      ]
    },
    {
      "cell_type": "markdown",
      "source": [
        "As suposições 1 e 2 são perceptiveis de forma imediata. Assim, partindo para a suposição 3, temos:"
      ],
      "metadata": {
        "id": "ooaT7DPa69Sy"
      }
    },
    {
      "cell_type": "code",
      "source": [
        "# verificando se tamnho das amostras são grandes o suficiente\n",
        "adultos.sex.value_counts()\n",
        "\n",
        "# verificando se ambas as populações são aproximadamente normais\n",
        "fig, ax = plt.subplots(1, 2)\n",
        "sns.histplot(data=adultos[adultos['sex']== 'male'], x='bmi', ax=ax[0])\n",
        "sns.histplot(data=adultos[adultos['sex']== 'female'], x='bmi', ax=ax[1])\n",
        "plt.show()"
      ],
      "metadata": {
        "colab": {
          "base_uri": "https://localhost:8080/",
          "height": 449
        },
        "id": "s9Qm_OQm5omF",
        "outputId": "39111f26-5e1e-4f13-fa68-c2408713d249"
      },
      "execution_count": 5,
      "outputs": [
        {
          "output_type": "display_data",
          "data": {
            "text/plain": [
              "<Figure size 640x480 with 2 Axes>"
            ],
            "image/png": "[encoded data removed]"
          },
          "metadata": {}
        }
      ]
    },
    {
      "cell_type": "markdown",
      "source": [
        "Para nossa grata surpresa, os elementos de estudo têm o comportamento próximo de uma distribuição gaussiana."
      ],
      "metadata": {
        "id": "LoLhdXh39wsu"
      }
    },
    {
      "cell_type": "code",
      "source": [
        "homem = adultos[adultos['sex']=='male']\n",
        "bmi_h = homem.bmi.mean()\n",
        "n_h = len(homem)\n",
        "desvio_h = np.std(homem.bmi)\n",
        "print(f'média bmi homem: {bmi_h:.2f}\\nnúmero de amostras: {n_h}')\n",
        "\n",
        "mulher = adultos[adultos['sex']=='female']\n",
        "bmi_m = mulher.bmi.mean()\n",
        "n_m = len(mulher)\n",
        "desvio_m = np.std(mulher.bmi)\n",
        "print(f'\\n\\nmédia bmi mulher: {bmi_m:.2f}\\nnúmero de amostras: {n_m}')"
      ],
      "metadata": {
        "colab": {
          "base_uri": "https://localhost:8080/"
        },
        "id": "MeS7Nld67ibv",
        "outputId": "d19395de-6276-4947-a00c-c4ede6222263"
      },
      "execution_count": 6,
      "outputs": [
        {
          "output_type": "stream",
          "name": "stdout",
          "text": [
            "média bmi homem: 30.53\n",
            "número de amostras: 501\n",
            "\n",
            "\n",
            "média bmi mulher: 30.04\n",
            "número de amostras: 481\n"
          ]
        }
      ]
    },
    {
      "cell_type": "markdown",
      "source": [
        "**Passo 3:** Calcular estatística de teste\n",
        "\n",
        "A estatística de teste é uma medida de quão longe nossa estatística de amostra está de nosso parâmetro de população hipotético, em termos de erros padrão estimados. Agora devemos verificar qual o teste melhor associado ao problema.\n",
        "\n",
        "No caso deste estudo temos:\n",
        "1. duas amostras independentes\n",
        "2. as duas populações mostram distribuições normais\n",
        "3. desvio padrão igual assumido\n",
        "\n",
        "Portanto, faremos um teste t de duas amostras:\n"
      ],
      "metadata": {
        "id": "Yq_QacGDAAIV"
      }
    },
    {
      "cell_type": "code",
      "source": [
        "std = adultos.bmi.std() # desvio padrão agrupado\n",
        "\n",
        "dF = n_h + n_m - 2 # graus de liberdade\n",
        "alpha = 0.05 # nível de significância (95%)\n",
        "\n",
        "t = (bmi_h - bmi_m) / (math.sqrt((desvio_h**2/n_h) + (desvio_m**2/n_m)))\n",
        "\n",
        "print(f'teste estatístico t: {t}')"
      ],
      "metadata": {
        "colab": {
          "base_uri": "https://localhost:8080/"
        },
        "id": "toYFFqTG_yVE",
        "outputId": "5ad86800-f9e2-4f28-d0d5-917765682a0d"
      },
      "execution_count": 7,
      "outputs": [
        {
          "output_type": "stream",
          "name": "stdout",
          "text": [
            "teste estatístico t: 1.267905771851873\n"
          ]
        }
      ]
    },
    {
      "cell_type": "markdown",
      "source": [
        "**Passo 4:** Determine o valor p correspondente\n",
        "\n",
        "Não importa o teste estatístico que se faça, sempre se reporta o valor de p para dizer se houve ou não efeitos significativos.\n"
      ],
      "metadata": {
        "id": "eankWhcgPcUM"
      }
    },
    {
      "cell_type": "code",
      "source": [
        "p_valor = 2 * (1 - stats.t.cdf(abs(t), df=dF))\n",
        "print(f'valor p:{p_valor:.3f}')"
      ],
      "metadata": {
        "colab": {
          "base_uri": "https://localhost:8080/"
        },
        "id": "22ZwidUwPOVD",
        "outputId": "4f345f1a-8d33-473b-b72f-3a850b778040"
      },
      "execution_count": 9,
      "outputs": [
        {
          "output_type": "stream",
          "name": "stdout",
          "text": [
            "valor p:0.205\n"
          ]
        }
      ]
    },
    {
      "cell_type": "markdown",
      "source": [
        "**Passo 5:** Tomar decisão sobre a hipótese nula\n",
        "\n",
        "Para tomar a decisão, precisamos avaliar o valor-p. temos duas possibilidades de decisão:\n",
        "\n",
        "1. **Rejeitar hipótese nula:** Quando o valor-p é maior que alpha\n",
        "\n",
        "2. **Aceitar hipótese nula:** Quando o valor-p é menor que alpha"
      ],
      "metadata": {
        "id": "BYiIM2FtQHtU"
      }
    },
    {
      "cell_type": "code",
      "source": [
        "if p_valor > alpha:\n",
        "  print('decisão: Rejeitar hipótese nula')\n",
        "else:\n",
        "  print('decisão: Aceitar hipótese nula')"
      ],
      "metadata": {
        "colab": {
          "base_uri": "https://localhost:8080/"
        },
        "id": "Hxqj-qt0KKXt",
        "outputId": "0430a21f-a0b2-4e02-e934-6e1839d3f710"
      },
      "execution_count": 10,
      "outputs": [
        {
          "output_type": "stream",
          "name": "stdout",
          "text": [
            "decisão: Rejeitar hipótese nula\n"
          ]
        }
      ]
    },
    {
      "cell_type": "markdown",
      "source": [
        "Portanto podemos afirmar de maneira confiável de que não há diferença significativa entre o bmi de homens e mulheres na faixa de 18 a 50 anos no nosso estudo."
      ],
      "metadata": {
        "id": "QeDsRmP8RhNR"
      }
    }
  ]
}